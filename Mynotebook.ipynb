{
  "nbformat": 4,
  "nbformat_minor": 0,
  "metadata": {
    "colab": {
      "provenance": [],
      "mount_file_id": "1CDgC9cmES1WslfVlGYh-jxf4CyG0s6cg",
      "authorship_tag": "ABX9TyOM1quIDoPt+W3/lJwND81J",
      "include_colab_link": true
    },
    "kernelspec": {
      "name": "python3",
      "display_name": "Python 3"
    },
    "language_info": {
      "name": "python"
    }
  },
  "cells": [
    {
      "cell_type": "markdown",
      "metadata": {
        "id": "view-in-github",
        "colab_type": "text"
      },
      "source": [
        "<a href=\"https://colab.research.google.com/github/Grakashi/colab/blob/main/Mynotebook.ipynb\" target=\"_parent\"><img src=\"https://colab.research.google.com/assets/colab-badge.svg\" alt=\"Open In Colab\"/></a>"
      ]
    },
    {
      "cell_type": "code",
      "execution_count": 1,
      "metadata": {
        "colab": {
          "base_uri": "https://localhost:8080/"
        },
        "id": "9uSpCFaqf4x2",
        "outputId": "b33b26d8-71f5-4b97-ed53-65fb26abda97"
      },
      "outputs": [
        {
          "output_type": "stream",
          "name": "stdout",
          "text": [
            "Hello World.!\n"
          ]
        }
      ],
      "source": [
        "print(\"Hello World.!\")"
      ]
    },
    {
      "cell_type": "code",
      "source": [
        "print(\"Hello Grace,Welcome to Python!\")"
      ],
      "metadata": {
        "colab": {
          "base_uri": "https://localhost:8080/"
        },
        "id": "NxjDl1Q4i11G",
        "outputId": "c6edd6f9-466f-43af-8d04-1866aefe3dbc"
      },
      "execution_count": 2,
      "outputs": [
        {
          "output_type": "stream",
          "name": "stdout",
          "text": [
            "Hello Grace,Welcome to Python!\n"
          ]
        }
      ]
    }
  ]
}